{
  "cells": [
    {
      "cell_type": "code",
      "execution_count": null,
      "metadata": {
        "colab": {
          "base_uri": "https://localhost:8080/"
        },
        "id": "OyqrHMBRAjAi",
        "outputId": "479f6922-b467-4d44-92ac-444bf602f9dd"
      },
      "outputs": [
        {
          "output_type": "stream",
          "name": "stdout",
          "text": [
            "   fixed acidity  volatile acidity  citric acid  residual sugar  chlorides  \\\n",
            "0            7.4              0.70         0.00             1.9      0.076   \n",
            "1            7.8              0.88         0.00             2.6      0.098   \n",
            "2            7.8              0.76         0.04             2.3      0.092   \n",
            "3           11.2              0.28         0.56             1.9      0.075   \n",
            "4            7.4              0.70         0.00             1.9      0.076   \n",
            "\n",
            "   free sulfur dioxide  total sulfur dioxide  density    pH  sulphates  \\\n",
            "0                 11.0                  34.0   0.9978  3.51       0.56   \n",
            "1                 25.0                  67.0   0.9968  3.20       0.68   \n",
            "2                 15.0                  54.0   0.9970  3.26       0.65   \n",
            "3                 17.0                  60.0   0.9980  3.16       0.58   \n",
            "4                 11.0                  34.0   0.9978  3.51       0.56   \n",
            "\n",
            "   alcohol  quality  k_value  l_value  m_value  percentage_free_sulphur  \\\n",
            "0      9.4        0     8.10     4.05    0.636                30.909091   \n",
            "1      9.8        0     8.68     4.34    0.778                26.800000   \n",
            "2      9.8        0     8.56     4.28    0.742                36.000000   \n",
            "3      9.8        1    11.48     5.74    0.655                35.294118   \n",
            "4      9.4        0     8.10     4.05    0.636                30.909091   \n",
            "\n",
            "   n_value  \n",
            "0   0.6080  \n",
            "1   0.8290  \n",
            "2   0.7440  \n",
            "3   0.7195  \n",
            "4   0.6080  \n"
          ]
        },
        {
          "output_type": "execute_result",
          "data": {
            "text/plain": [
              "<bound method DataFrame.info of       fixed acidity  volatile acidity  citric acid  residual sugar  chlorides  \\\n",
              "0               7.4             0.700         0.00             1.9      0.076   \n",
              "1               7.8             0.880         0.00             2.6      0.098   \n",
              "2               7.8             0.760         0.04             2.3      0.092   \n",
              "3              11.2             0.280         0.56             1.9      0.075   \n",
              "4               7.4             0.700         0.00             1.9      0.076   \n",
              "...             ...               ...          ...             ...        ...   \n",
              "1594            6.2             0.600         0.08             2.0      0.090   \n",
              "1595            5.9             0.550         0.10             2.2      0.062   \n",
              "1596            6.3             0.510         0.13             2.3      0.076   \n",
              "1597            5.9             0.645         0.12             2.0      0.075   \n",
              "1598            6.0             0.310         0.47             3.6      0.067   \n",
              "\n",
              "      free sulfur dioxide  total sulfur dioxide  density    pH  sulphates  \\\n",
              "0                    11.0                  34.0  0.99780  3.51       0.56   \n",
              "1                    25.0                  67.0  0.99680  3.20       0.68   \n",
              "2                    15.0                  54.0  0.99700  3.26       0.65   \n",
              "3                    17.0                  60.0  0.99800  3.16       0.58   \n",
              "4                    11.0                  34.0  0.99780  3.51       0.56   \n",
              "...                   ...                   ...      ...   ...        ...   \n",
              "1594                 32.0                  44.0  0.99490  3.45       0.58   \n",
              "1595                 39.0                  51.0  0.99512  3.52       0.76   \n",
              "1596                 29.0                  40.0  0.99574  3.42       0.75   \n",
              "1597                 32.0                  44.0  0.99547  3.57       0.71   \n",
              "1598                 18.0                  42.0  0.99549  3.39       0.66   \n",
              "\n",
              "      alcohol  quality  k_value  l_value  m_value  percentage_free_sulphur  \\\n",
              "0         9.4        0    8.100   4.0500    0.636                30.909091   \n",
              "1         9.8        0    8.680   4.3400    0.778                26.800000   \n",
              "2         9.8        0    8.560   4.2800    0.742                36.000000   \n",
              "3         9.8        1   11.480   5.7400    0.655                35.294118   \n",
              "4         9.4        0    8.100   4.0500    0.636                30.909091   \n",
              "...       ...      ...      ...      ...      ...                      ...   \n",
              "1594     10.5        0    6.800   3.4000    0.670                13.750000   \n",
              "1595     11.2        1    6.450   3.2250    0.822                13.076923   \n",
              "1596     11.0        1    6.810   3.4050    0.826                13.793103   \n",
              "1597     10.2        0    6.545   3.2725    0.785                13.750000   \n",
              "1598     11.0        1    6.310   3.1550    0.727                23.333333   \n",
              "\n",
              "      n_value  \n",
              "0      0.6080  \n",
              "1      0.8290  \n",
              "2      0.7440  \n",
              "3      0.7195  \n",
              "4      0.6080  \n",
              "...       ...  \n",
              "1594   0.6610  \n",
              "1595   0.7110  \n",
              "1596   0.7540  \n",
              "1597   0.6615  \n",
              "1598   1.2075  \n",
              "\n",
              "[1599 rows x 17 columns]>"
            ]
          },
          "metadata": {},
          "execution_count": 37
        }
      ],
      "source": [
        "import numpy as np\n",
        "import pandas as pd\n",
        "\n",
        "df = pd.read_csv(r\"/content/Epoch Hackathon - Dataset.csv\")\n",
        "print(df.head())\n",
        "df.info"
      ]
    },
    {
      "cell_type": "code",
      "execution_count": null,
      "metadata": {
        "colab": {
          "base_uri": "https://localhost:8080/"
        },
        "id": "DquWCbl5x6VC",
        "outputId": "96702a12-5af1-4564-c67d-42c5de3cde4f"
      },
      "outputs": [
        {
          "output_type": "stream",
          "name": "stdout",
          "text": [
            "   fixed acidity  volatile acidity  citric acid  residual sugar  chlorides  \\\n",
            "0            7.4              0.70         0.00             1.9      0.076   \n",
            "1            7.8              0.88         0.00             2.6      0.098   \n",
            "2            7.8              0.76         0.04             2.3      0.092   \n",
            "3           11.2              0.28         0.56             1.9      0.075   \n",
            "4            7.4              0.66         0.00             1.8      0.075   \n",
            "\n",
            "   free sulfur dioxide  total sulfur dioxide  density    pH  sulphates  \\\n",
            "0                 11.0                  34.0   0.9978  3.51       0.56   \n",
            "1                 25.0                  67.0   0.9968  3.20       0.68   \n",
            "2                 15.0                  54.0   0.9970  3.26       0.65   \n",
            "3                 17.0                  60.0   0.9980  3.16       0.58   \n",
            "4                 13.0                  40.0   0.9978  3.51       0.56   \n",
            "\n",
            "   alcohol  quality  k_value  l_value  m_value  percentage_free_sulphur  \\\n",
            "0      9.4        0     8.10     4.05    0.636                30.909091   \n",
            "1      9.8        0     8.68     4.34    0.778                26.800000   \n",
            "2      9.8        0     8.56     4.28    0.742                36.000000   \n",
            "3      9.8        1    11.48     5.74    0.655                35.294118   \n",
            "4      9.4        0     8.06     4.03    0.635                30.769231   \n",
            "\n",
            "   n_value  \n",
            "0   0.6080  \n",
            "1   0.8290  \n",
            "2   0.7440  \n",
            "3   0.7195  \n",
            "4   0.5775  \n",
            "<class 'pandas.core.frame.DataFrame'>\n",
            "RangeIndex: 1359 entries, 0 to 1358\n",
            "Data columns (total 17 columns):\n",
            " #   Column                   Non-Null Count  Dtype  \n",
            "---  ------                   --------------  -----  \n",
            " 0   fixed acidity            1359 non-null   float64\n",
            " 1   volatile acidity         1359 non-null   float64\n",
            " 2   citric acid              1359 non-null   float64\n",
            " 3   residual sugar           1359 non-null   float64\n",
            " 4   chlorides                1359 non-null   float64\n",
            " 5   free sulfur dioxide      1359 non-null   float64\n",
            " 6   total sulfur dioxide     1359 non-null   float64\n",
            " 7   density                  1359 non-null   float64\n",
            " 8   pH                       1359 non-null   float64\n",
            " 9   sulphates                1359 non-null   float64\n",
            " 10  alcohol                  1359 non-null   float64\n",
            " 11  quality                  1359 non-null   int64  \n",
            " 12  k_value                  1359 non-null   float64\n",
            " 13  l_value                  1359 non-null   float64\n",
            " 14  m_value                  1359 non-null   float64\n",
            " 15  percentage_free_sulphur  1359 non-null   float64\n",
            " 16  n_value                  1359 non-null   float64\n",
            "dtypes: float64(16), int64(1)\n",
            "memory usage: 180.6 KB\n"
          ]
        }
      ],
      "source": [
        "df_new = df.drop_duplicates(ignore_index = True)\n",
        "print(df_new.head())\n",
        "df_new.info()"
      ]
    },
    {
      "cell_type": "code",
      "execution_count": null,
      "metadata": {
        "colab": {
          "base_uri": "https://localhost:8080/"
        },
        "id": "jyrPstbHqgX4",
        "outputId": "449561b7-8c65-4797-d233-a9e101838118"
      },
      "outputs": [
        {
          "output_type": "stream",
          "name": "stdout",
          "text": [
            "['fixed acidity' 'volatile acidity' 'citric acid' 'residual sugar'\n",
            " 'chlorides' 'free sulfur dioxide' 'total sulfur dioxide' 'density' 'pH'\n",
            " 'sulphates' 'alcohol' 'k_value' 'l_value' 'm_value'\n",
            " 'percentage_free_sulphur' 'n_value']\n",
            "[[ 7.4         0.7         0.         ...  0.636      30.90909091\n",
            "   0.608     ]\n",
            " [ 7.8         0.88        0.         ...  0.778      26.8\n",
            "   0.829     ]\n",
            " [ 7.8         0.76        0.04       ...  0.742      36.\n",
            "   0.744     ]\n",
            " ...\n",
            " [ 5.9         0.55        0.1        ...  0.822      13.07692308\n",
            "   0.711     ]\n",
            " [ 5.9         0.645       0.12       ...  0.785      13.75\n",
            "   0.6615    ]\n",
            " [ 6.          0.31        0.47       ...  0.727      23.33333333\n",
            "   1.2075    ]]\n",
            "{'fixed acidity': array([7.4, 7.8, 7.8, ..., 5.9, 5.9, 6. ]), 'volatile acidity': array([0.7  , 0.88 , 0.76 , ..., 0.55 , 0.645, 0.31 ]), 'citric acid': array([0.  , 0.  , 0.04, ..., 0.1 , 0.12, 0.47]), 'residual sugar': array([1.9, 2.6, 2.3, ..., 2.2, 2. , 3.6]), 'chlorides': array([0.076, 0.098, 0.092, ..., 0.062, 0.075, 0.067]), 'free sulfur dioxide': array([11., 25., 15., ..., 39., 32., 18.]), 'total sulfur dioxide': array([34., 67., 54., ..., 51., 44., 42.]), 'density': array([0.9978 , 0.9968 , 0.997  , ..., 0.99512, 0.99547, 0.99549]), 'pH': array([3.51, 3.2 , 3.26, ..., 3.52, 3.57, 3.39]), 'sulphates': array([0.56, 0.68, 0.65, ..., 0.76, 0.71, 0.66]), 'alcohol': array([ 9.4,  9.8,  9.8, ..., 11.2, 10.2, 11. ]), 'k_value': array([8.1  , 8.68 , 8.56 , ..., 6.45 , 6.545, 6.31 ]), 'l_value': array([4.05  , 4.34  , 4.28  , ..., 3.225 , 3.2725, 3.155 ]), 'm_value': array([0.636, 0.778, 0.742, ..., 0.822, 0.785, 0.727]), 'percentage_free_sulphur': array([30.90909091, 26.8       , 36.        , ..., 13.07692308,\n",
            "       13.75      , 23.33333333]), 'n_value': array([0.608 , 0.829 , 0.744 , ..., 0.711 , 0.6615, 1.2075])}\n"
          ]
        }
      ],
      "source": [
        "Columns = df_new.columns.values\n",
        "features = np.delete(Columns,11)\n",
        "print(features)\n",
        "parameters = df_new[features].values\n",
        "print(parameters)\n",
        "\n",
        "data = {}\n",
        "for i in range(len(features)):\n",
        "   data[features[i]] = parameters[:,i]\n",
        "print(data)      "
      ]
    },
    {
      "cell_type": "code",
      "execution_count": null,
      "metadata": {
        "colab": {
          "base_uri": "https://localhost:8080/"
        },
        "id": "SRimb2fnxhta",
        "outputId": "fcbbea6a-ed96-42f1-dd90-de5cc55c1639"
      },
      "outputs": [
        {
          "output_type": "stream",
          "name": "stdout",
          "text": [
            "[[0]\n",
            " [0]\n",
            " [0]\n",
            " ...\n",
            " [1]\n",
            " [0]\n",
            " [1]]\n"
          ]
        }
      ],
      "source": [
        "labels = df_new[['quality']].values\n",
        "print(labels)"
      ]
    },
    {
      "cell_type": "code",
      "execution_count": null,
      "metadata": {
        "colab": {
          "base_uri": "https://localhost:8080/"
        },
        "id": "Csq9tC-fRliO",
        "outputId": "11a636d0-1b75-4354-db04-d54a3d122504"
      },
      "outputs": [
        {
          "output_type": "stream",
          "name": "stdout",
          "text": [
            "[[0.24778761 0.39726027 0.         ... 0.11161116 0.04492395 0.05403271]\n",
            " [0.28318584 0.52054795 0.         ... 0.17551755 0.03533074 0.10389171]\n",
            " [0.28318584 0.43835616 0.04       ... 0.15931593 0.05680934 0.08471517]\n",
            " ...\n",
            " [0.11504425 0.29452055 0.1        ... 0.19531953 0.00329243 0.07727016]\n",
            " [0.11504425 0.35958904 0.12       ... 0.17866787 0.00486381 0.06610265]\n",
            " [0.12389381 0.13013699 0.47       ... 0.15256526 0.02723735 0.1892837 ]]\n",
            "{'fixed acidity': array([0.24778761, 0.28318584, 0.28318584, ..., 0.11504425, 0.11504425,\n",
            "       0.12389381]), 'volatile acidity': array([0.39726027, 0.52054795, 0.43835616, ..., 0.29452055, 0.35958904,\n",
            "       0.13013699]), 'citric acid': array([0.  , 0.  , 0.04, ..., 0.1 , 0.12, 0.47]), 'residual sugar': array([0.06849315, 0.11643836, 0.09589041, ..., 0.0890411 , 0.07534247,\n",
            "       0.18493151]), 'chlorides': array([0.10684474, 0.14357262, 0.13355593, ..., 0.08347245, 0.10517529,\n",
            "       0.0918197 ]), 'free sulfur dioxide': array([0.14084507, 0.33802817, 0.1971831 , ..., 0.53521127, 0.43661972,\n",
            "       0.23943662]), 'total sulfur dioxide': array([0.09893993, 0.2155477 , 0.16961131, ..., 0.1590106 , 0.13427562,\n",
            "       0.12720848]), 'density': array([0.56754772, 0.49412628, 0.50881057, ..., 0.37077827, 0.39647577,\n",
            "       0.3979442 ]), 'pH': array([0.60629921, 0.36220472, 0.40944882, ..., 0.61417323, 0.65354331,\n",
            "       0.51181102]), 'sulphates': array([0.13772455, 0.20958084, 0.19161677, ..., 0.25748503, 0.22754491,\n",
            "       0.19760479]), 'alcohol': array([0.15384615, 0.21538462, 0.21538462, ..., 0.43076923, 0.27692308,\n",
            "       0.4       ]), 'k_value': array([0.26690551, 0.31885356, 0.30810569, ..., 0.11912226, 0.12763099,\n",
            "       0.10658307]), 'l_value': array([0.26690551, 0.31885356, 0.30810569, ..., 0.11912226, 0.12763099,\n",
            "       0.10658307]), 'm_value': array([0.11161116, 0.17551755, 0.15931593, ..., 0.19531953, 0.17866787,\n",
            "       0.15256526]), 'percentage_free_sulphur': array([0.04492395, 0.03533074, 0.05680934, ..., 0.00329243, 0.00486381,\n",
            "       0.02723735]), 'n_value': array([0.05403271, 0.10389171, 0.08471517, ..., 0.07727016, 0.06610265,\n",
            "       0.1892837 ])}\n"
          ]
        }
      ],
      "source": [
        "# feature scaling - minmax method\n",
        "min_parameters = np.array([])\n",
        "max_parameters = np.array([])\n",
        "for i in range(len(parameters[0])):\n",
        "  min_parameters = np.append(min_parameters,np.min(parameters[:,i]))\n",
        "  max_parameters = np.append(max_parameters,np.max(parameters[:,i]))\n",
        "\n",
        "for i in range(len(parameters[0])):\n",
        "  for j in range(len(parameters[:,i])):\n",
        "    parameters[j][i] =(parameters[j][i] - min_parameters[i])/(max_parameters[i] - min_parameters[i])\n",
        "print(parameters)\n",
        "\n",
        "modified_data = {}\n",
        "for i in range(len(features)):\n",
        "  modified_data[features[i]] =parameters[:,i]\n",
        "\n",
        "print(modified_data)\n"
      ]
    },
    {
      "cell_type": "code",
      "execution_count": null,
      "metadata": {
        "colab": {
          "base_uri": "https://localhost:8080/"
        },
        "id": "RcOjOb6xRdnI",
        "outputId": "0a2845a5-0d8f-4fa7-eb1a-1f6edc43ab93"
      },
      "outputs": [
        {
          "output_type": "stream",
          "name": "stdout",
          "text": [
            "[0.32837133 0.28046408 0.2723326  0.11119175 0.12708451 0.20976484\n",
            " 0.1442614  0.4874411  0.44865087 0.1968293  0.31266391 0.33319065\n",
            " 0.33319065 0.161489   0.04854325 0.10988115]\n"
          ]
        }
      ],
      "source": [
        "# finding mean for each parameter.\n",
        "mean_parameters = np.array([])\n",
        "for i in range(len(parameters[0])):\n",
        " mean_parameters = np.append(mean_parameters,np.sum(parameters[:,i])/len(parameters[:]))\n",
        "print(mean_parameters)  "
      ]
    },
    {
      "cell_type": "code",
      "execution_count": null,
      "metadata": {
        "colab": {
          "base_uri": "https://localhost:8080/"
        },
        "id": "V2jFpkD2dcpt",
        "outputId": "c1a603d9-63c5-43e3-a166-de1e2165053f"
      },
      "outputs": [
        {
          "output_type": "stream",
          "name": "stdout",
          "text": [
            "[0.02361119 0.01570455 0.03820641 0.00857294 0.00679006 0.02163562\n",
            " 0.01392621 0.01881509 0.01489154 0.01043628 0.0276924  0.0231538\n",
            " 0.0231538  0.00773442 0.00260154 0.00875987]\n"
          ]
        }
      ],
      "source": [
        "sum = 0\n",
        "# Finding the variance of each parameter\n",
        "var_parameters = np.array([])\n",
        "for i in range(len(parameters[0])):\n",
        "   for j in range(len(parameters[:,i])):\n",
        "       sum +=(parameters[j][i] - mean_parameters[i])**2\n",
        "   var = sum/len(parameters[:])\n",
        "   var_parameters = np.append(var_parameters,var)\n",
        "   sum = 0\n",
        "print(var_parameters)       "
      ]
    },
    {
      "cell_type": "code",
      "execution_count": null,
      "metadata": {
        "colab": {
          "base_uri": "https://localhost:8080/"
        },
        "id": "8RvCKsZzjTTa",
        "outputId": "e4f9ae8b-5bb6-49a5-9293-e6004eba69fd"
      },
      "outputs": [
        {
          "output_type": "stream",
          "name": "stdout",
          "text": [
            "0.52906548933039\n",
            "0.2491551973299893\n"
          ]
        }
      ],
      "source": [
        "sum = 0\n",
        "# Finding the mean of labels.\n",
        "for i in range(len(labels)):\n",
        "   sum += labels[i][0]\n",
        "mean_labels =  sum/len(labels)\n",
        "\n",
        "print(mean_labels)\n",
        "sum = 0\n",
        "# Finding the varaince of labels.\n",
        "for i in range(len(labels)):\n",
        "    sum +=(labels[i][0] - mean_labels)**2\n",
        "var_labels = sum/len(labels) \n",
        "print(var_labels)   \n",
        "             \n",
        "\n",
        "\n"
      ]
    },
    {
      "cell_type": "code",
      "execution_count": null,
      "metadata": {
        "colab": {
          "base_uri": "https://localhost:8080/"
        },
        "id": "W-OlNzgxrHB6",
        "outputId": "94cace8a-0850-4074-a82f-7ead744a0b48"
      },
      "outputs": [
        {
          "output_type": "stream",
          "name": "stdout",
          "text": [
            "[ 0.00703807 -0.02046698  0.0163818  -0.00010958 -0.00473303 -0.00508126\n",
            " -0.01384534 -0.01156825  0.00028589  0.01077807  0.0370614   0.00444678\n",
            "  0.00444678  0.00682461 -0.00359352  0.00031108]\n"
          ]
        }
      ],
      "source": [
        "sum = 0\n",
        "# Finding the covariance between each feature and quality.\n",
        "co_var_parameters = np.array([])\n",
        "for i in range(len(parameters[0])):\n",
        "  for j in range(len(parameters[:,i])):\n",
        "    sum +=(parameters[j][i] - mean_parameters[i])*(labels[j][0] -mean_labels)\n",
        "  co_var = sum/len(parameters[:])\n",
        "  co_var_parameters = np.append(co_var_parameters,co_var)\n",
        "  sum = 0\n",
        "\n",
        "print(co_var_parameters)\n"
      ]
    },
    {
      "cell_type": "code",
      "execution_count": null,
      "metadata": {
        "colab": {
          "base_uri": "https://localhost:8080/"
        },
        "id": "--4fJCWMp-sC",
        "outputId": "55009130-3f51-4077-b38f-7bbe1e85fac8"
      },
      "outputs": [
        {
          "output_type": "stream",
          "name": "stdout",
          "text": [
            "[ 0.09176125 -0.32719465  0.16790301 -0.00237107 -0.11507149 -0.06920726\n",
            " -0.23504561 -0.16895832  0.0046935   0.21136501  0.44617631  0.05854636\n",
            "  0.05854636  0.15546382 -0.14114632  0.00665859]\n"
          ]
        }
      ],
      "source": [
        "# Finding the correlation coefficient between each feature and quality\n",
        "cor_coeff = np.array([])\n",
        "for i in range(len(co_var_parameters)):\n",
        "  cor_coeff = np.append(cor_coeff,co_var_parameters[i]/np.sqrt(var_parameters[i]*var_labels))\n",
        "print(cor_coeff)  "
      ]
    },
    {
      "cell_type": "code",
      "execution_count": null,
      "metadata": {
        "colab": {
          "base_uri": "https://localhost:8080/"
        },
        "id": "ZF2kX0yexGTZ",
        "outputId": "677afd86-cf0d-4ed7-f597-6b029790d9ed"
      },
      "outputs": [
        {
          "output_type": "stream",
          "name": "stdout",
          "text": [
            "{'fixed acidity': 0.09176125222443739, 'volatile acidity': -0.3271946452992922, 'citric acid': 0.1679030081538982, 'residual sugar': -0.0023710675527623334, 'chlorides': -0.11507149155054827, 'free sulfur dioxide': -0.06920725669412935, 'total sulfur dioxide': -0.23504560789081744, 'density': -0.16895831529316957, 'pH': 0.004693498113769304, 'sulphates': 0.21136501238035643, 'alcohol': 0.4461763137878795, 'k_value': 0.058546357769982064, 'l_value': 0.058546357769982064, 'm_value': 0.15546382427539013, 'percentage_free_sulphur': -0.14114631652794463, 'n_value': 0.0066585857951475536}\n"
          ]
        }
      ],
      "source": [
        "dic = {}\n",
        "for i in range(len(features)):\n",
        "  dic[features[i]] = cor_coeff[i]\n",
        "print(dic)  "
      ]
    },
    {
      "cell_type": "code",
      "execution_count": null,
      "metadata": {
        "colab": {
          "base_uri": "https://localhost:8080/"
        },
        "id": "S_rYUKd5BQWr",
        "outputId": "d387118c-f029-4ee8-e3d8-16841ed50d54"
      },
      "outputs": [
        {
          "output_type": "stream",
          "name": "stdout",
          "text": [
            "{'volatile acidity': -0.3271946452992922, 'citric acid': 0.1679030081538982, 'chlorides': -0.11507149155054827, 'total sulfur dioxide': -0.23504560789081744, 'density': -0.16895831529316957, 'sulphates': 0.21136501238035643, 'alcohol': 0.4461763137878795, 'm_value': 0.15546382427539013, 'percentage_free_sulphur': -0.14114631652794463}\n"
          ]
        }
      ],
      "source": [
        "# correlation coeff. is the indicator of how strong the relationship between the two variables. Here we neglect the features whose abs corr.coef with the label(quality) close to zero.\n",
        "# Here we will consider features whose abs corr.coef is greater than 0.1\n",
        "new_dic={}\n",
        "for i in features:\n",
        "   if abs(dic[i]) - 0.1 > 1e-9:\n",
        "     new_dic[i] = dic[i]\n",
        "print(new_dic)     \n"
      ]
    },
    {
      "cell_type": "code",
      "execution_count": null,
      "metadata": {
        "colab": {
          "base_uri": "https://localhost:8080/"
        },
        "id": "Innrw6tnLbJl",
        "outputId": "7a42da2f-1e76-4de1-d825-929b9e0d5c14"
      },
      "outputs": [
        {
          "output_type": "stream",
          "name": "stdout",
          "text": [
            "[1, 2, 4, 6, 7, 9, 10, 13, 14]\n",
            "[[0.39726027 0.         0.10684474 ... 0.15384615 0.11161116 0.04492395]\n",
            " [0.52054795 0.         0.14357262 ... 0.21538462 0.17551755 0.03533074]\n",
            " [0.43835616 0.04       0.13355593 ... 0.21538462 0.15931593 0.05680934]\n",
            " ...\n",
            " [0.29452055 0.1        0.08347245 ... 0.43076923 0.19531953 0.00329243]\n",
            " [0.35958904 0.12       0.10517529 ... 0.27692308 0.17866787 0.00486381]\n",
            " [0.13013699 0.47       0.0918197  ... 0.4        0.15256526 0.02723735]]\n"
          ]
        }
      ],
      "source": [
        "# Final data.\n",
        "index_features = []\n",
        "for i in range(len(features)):\n",
        "  if features[i] in new_dic.keys():\n",
        "    index_features.append(i)\n",
        "print(index_features)\n",
        "\n",
        "final_parameters = parameters[:,index_features]\n",
        "print(final_parameters)\n"
      ]
    },
    {
      "cell_type": "code",
      "execution_count": null,
      "metadata": {
        "colab": {
          "base_uri": "https://localhost:8080/"
        },
        "id": "JkXV8_2OHY3L",
        "outputId": "3f56c6be-2e61-4756-ced6-1e55d0581b58"
      },
      "outputs": [
        {
          "output_type": "stream",
          "name": "stdout",
          "text": [
            "[[0.39726027 0.         0.10684474 ... 0.15384615 0.11161116 0.04492395]\n",
            " [0.52054795 0.         0.14357262 ... 0.21538462 0.17551755 0.03533074]\n",
            " [0.43835616 0.04       0.13355593 ... 0.21538462 0.15931593 0.05680934]\n",
            " ...\n",
            " [0.23287671 0.         0.10851419 ... 0.43076923 0.09855986 0.01385214]\n",
            " [0.31506849 0.2        0.10183639 ... 0.13846154 0.05175518 0.00297551]\n",
            " [0.31506849 0.13       0.15025042 ... 0.43076923 0.10981098 0.02220188]]\n"
          ]
        }
      ],
      "source": [
        "# Training\n",
        "\n",
        "# dividing the data into training and test data in 80-20 ratio.\n",
        "train_data = final_parameters[:int(4*len(final_parameters)/5),:]\n",
        "test_data = final_parameters[int(4*len(final_parameters)/5):len(final_parameters),:]\n",
        "# labels\n",
        "train_labels = labels[:int(4*len(labels)/5),:]\n",
        "test_labels = labels[int(4*len(labels)/5):len(labels),:]\n",
        "\n",
        "print(train_data)"
      ]
    },
    {
      "cell_type": "code",
      "execution_count": null,
      "metadata": {
        "colab": {
          "base_uri": "https://localhost:8080/"
        },
        "id": "WuotQfST75Mc",
        "outputId": "336cd01e-defe-4629-9fcc-c021ba49c83a"
      },
      "outputs": [
        {
          "output_type": "stream",
          "name": "stdout",
          "text": [
            "[[0.37817574]\n",
            " [0.16495572]\n",
            " [0.54838422]\n",
            " [0.19650229]\n",
            " [0.98543274]\n",
            " [0.05553732]\n",
            " [0.42056963]\n",
            " [0.36580043]\n",
            " [0.78036416]]\n"
          ]
        }
      ],
      "source": [
        "# generating weight vector and bias \n",
        "weights_vector = np.random.random((len(index_features),1))\n",
        "bias = 0.02\n",
        "print(weights_vector)\n"
      ]
    },
    {
      "cell_type": "code",
      "source": [
        "# Learning rate\n",
        "lr = 0.01\n",
        "\n",
        "def sigmoid(z):\n",
        " return 1/(1+np.exp(-z))\n",
        "\n",
        " # Iteration\n",
        "for i in range(100000): \n",
        " z = np.dot(train_data,weights_vector) + bias\n",
        " prob = sigmoid(z)\n",
        "\n",
        "# cost function\n",
        " J = (-1)*(np.dot(np.log(prob).T,train_labels) + np.dot(np.log(1-prob).T,1-train_labels))/len(train_data)\n",
        "\n",
        "# modifying the weight vector.\n",
        " for i in range(len(weights_vector)): \n",
        "   weights_vector[i] =  weights_vector[i] -lr*(np.dot((prob-train_labels).T,train_data[:,i]))/len(train_data)\n",
        "\n",
        " # modifying the bias.\n",
        " bias = bias - (np.sum(prob - train_labels))/len(train_data)\n",
        "\n"
      ],
      "metadata": {
        "id": "-aYLr8YSZuW1"
      },
      "execution_count": null,
      "outputs": []
    },
    {
      "cell_type": "markdown",
      "source": [
        "# New Section"
      ],
      "metadata": {
        "id": "UX6pOp0V1-5P"
      }
    },
    {
      "cell_type": "markdown",
      "source": [
        "# New Section"
      ],
      "metadata": {
        "id": "-CXIAln01_BR"
      }
    },
    {
      "cell_type": "code",
      "source": [
        "# Testing\n",
        "\n",
        "test_z =  np.dot(test_data,weights_vector) + bias\n",
        "pred_prob = sigmoid(test_z)\n",
        "print(pred_prob) # Predicted probabilities of test data\n",
        "\n",
        "pred_labels = np.array([])\n",
        "\n",
        "for i in range(len(pred_prob)):\n",
        " if pred_prob[i] - 0.5 > 1e-9:\n",
        "   pred_labels = np.append(pred_labels,1)\n",
        " else :\n",
        "   pred_labels = np.append(pred_labels,0)  \n",
        "print(pred_labels) # Predicted labels of test data\n"
      ],
      "metadata": {
        "colab": {
          "base_uri": "https://localhost:8080/"
        },
        "id": "pl9uwy-YDFjB",
        "outputId": "985f0063-3269-40ce-e64f-aa0c4c538a2b"
      },
      "execution_count": null,
      "outputs": [
        {
          "output_type": "stream",
          "name": "stdout",
          "text": [
            "[[0.14023741]\n",
            " [0.9285396 ]\n",
            " [0.36091188]\n",
            " [0.91942145]\n",
            " [0.59793148]\n",
            " [0.59153091]\n",
            " [0.34532496]\n",
            " [0.75359343]\n",
            " [0.65956906]\n",
            " [0.96707714]\n",
            " [0.93286103]\n",
            " [0.46666768]\n",
            " [0.62229084]\n",
            " [0.60221776]\n",
            " [0.94983906]\n",
            " [0.2874186 ]\n",
            " [0.16247221]\n",
            " [0.89223283]\n",
            " [0.88927821]\n",
            " [0.06987586]\n",
            " [0.88808299]\n",
            " [0.60027733]\n",
            " [0.90262819]\n",
            " [0.82314795]\n",
            " [0.09075519]\n",
            " [0.21747646]\n",
            " [0.22780189]\n",
            " [0.62616578]\n",
            " [0.20205002]\n",
            " [0.94365236]\n",
            " [0.13081103]\n",
            " [0.51987001]\n",
            " [0.50303335]\n",
            " [0.20809001]\n",
            " [0.83733621]\n",
            " [0.88359711]\n",
            " [0.16433188]\n",
            " [0.25750242]\n",
            " [0.83733621]\n",
            " [0.89085589]\n",
            " [0.83349406]\n",
            " [0.68893027]\n",
            " [0.31190816]\n",
            " [0.21801253]\n",
            " [0.07054742]\n",
            " [0.49495728]\n",
            " [0.17786665]\n",
            " [0.26344389]\n",
            " [0.91153277]\n",
            " [0.39409259]\n",
            " [0.6112326 ]\n",
            " [0.55116772]\n",
            " [0.78003277]\n",
            " [0.61073289]\n",
            " [0.8014105 ]\n",
            " [0.28550253]\n",
            " [0.59632997]\n",
            " [0.31325637]\n",
            " [0.75545398]\n",
            " [0.33464797]\n",
            " [0.4450474 ]\n",
            " [0.61483314]\n",
            " [0.61292826]\n",
            " [0.70061147]\n",
            " [0.10876893]\n",
            " [0.57043632]\n",
            " [0.63329774]\n",
            " [0.20400364]\n",
            " [0.14650371]\n",
            " [0.78723069]\n",
            " [0.35865564]\n",
            " [0.22850738]\n",
            " [0.58814376]\n",
            " [0.15732634]\n",
            " [0.53372158]\n",
            " [0.12934727]\n",
            " [0.89430479]\n",
            " [0.08070916]\n",
            " [0.16206781]\n",
            " [0.22104258]\n",
            " [0.21041622]\n",
            " [0.83524235]\n",
            " [0.51753545]\n",
            " [0.65383346]\n",
            " [0.18972979]\n",
            " [0.186248  ]\n",
            " [0.1093877 ]\n",
            " [0.06794548]\n",
            " [0.33849901]\n",
            " [0.4478607 ]\n",
            " [0.22011504]\n",
            " [0.9252526 ]\n",
            " [0.61632676]\n",
            " [0.41960097]\n",
            " [0.41567488]\n",
            " [0.16929675]\n",
            " [0.35317772]\n",
            " [0.36673502]\n",
            " [0.1999553 ]\n",
            " [0.51244017]\n",
            " [0.72098536]\n",
            " [0.0995961 ]\n",
            " [0.95357217]\n",
            " [0.85670459]\n",
            " [0.62903857]\n",
            " [0.92759986]\n",
            " [0.9228073 ]\n",
            " [0.74531082]\n",
            " [0.97108276]\n",
            " [0.59994716]\n",
            " [0.7623729 ]\n",
            " [0.40908358]\n",
            " [0.67835867]\n",
            " [0.48434324]\n",
            " [0.94435703]\n",
            " [0.44156301]\n",
            " [0.11699966]\n",
            " [0.37222453]\n",
            " [0.80270351]\n",
            " [0.71912682]\n",
            " [0.67992133]\n",
            " [0.94079827]\n",
            " [0.82900492]\n",
            " [0.58944314]\n",
            " [0.92355705]\n",
            " [0.65371381]\n",
            " [0.39622943]\n",
            " [0.93724679]\n",
            " [0.7084604 ]\n",
            " [0.11833204]\n",
            " [0.12963171]\n",
            " [0.41566532]\n",
            " [0.56836909]\n",
            " [0.48198276]\n",
            " [0.887622  ]\n",
            " [0.09286074]\n",
            " [0.44839671]\n",
            " [0.81525329]\n",
            " [0.48965973]\n",
            " [0.09548223]\n",
            " [0.36249103]\n",
            " [0.37890928]\n",
            " [0.88986883]\n",
            " [0.88137997]\n",
            " [0.80791836]\n",
            " [0.17683092]\n",
            " [0.7846085 ]\n",
            " [0.51307045]\n",
            " [0.43038168]\n",
            " [0.80418859]\n",
            " [0.9696872 ]\n",
            " [0.61931177]\n",
            " [0.38558292]\n",
            " [0.51194609]\n",
            " [0.56302522]\n",
            " [0.36565083]\n",
            " [0.49664511]\n",
            " [0.33752235]\n",
            " [0.12480399]\n",
            " [0.29140292]\n",
            " [0.88620468]\n",
            " [0.85326808]\n",
            " [0.62661537]\n",
            " [0.13235965]\n",
            " [0.96669704]\n",
            " [0.96767239]\n",
            " [0.30159609]\n",
            " [0.81732788]\n",
            " [0.53473221]\n",
            " [0.56494543]\n",
            " [0.84281935]\n",
            " [0.51566927]\n",
            " [0.3462598 ]\n",
            " [0.49486842]\n",
            " [0.69008413]\n",
            " [0.83410388]\n",
            " [0.78586333]\n",
            " [0.96986022]\n",
            " [0.83929599]\n",
            " [0.12966161]\n",
            " [0.73087529]\n",
            " [0.78992992]\n",
            " [0.75028398]\n",
            " [0.46865023]\n",
            " [0.30562033]\n",
            " [0.1177451 ]\n",
            " [0.30311897]\n",
            " [0.83561432]\n",
            " [0.86695398]\n",
            " [0.39647963]\n",
            " [0.56452629]\n",
            " [0.83857284]\n",
            " [0.92647011]\n",
            " [0.60518186]\n",
            " [0.3860211 ]\n",
            " [0.48011477]\n",
            " [0.50082737]\n",
            " [0.12567754]\n",
            " [0.1273758 ]\n",
            " [0.82194434]\n",
            " [0.64699522]\n",
            " [0.6821455 ]\n",
            " [0.40650704]\n",
            " [0.29247732]\n",
            " [0.54468687]\n",
            " [0.62242206]\n",
            " [0.49861757]\n",
            " [0.47393802]\n",
            " [0.73356902]\n",
            " [0.6317916 ]\n",
            " [0.37458904]\n",
            " [0.87197245]\n",
            " [0.45100493]\n",
            " [0.56643351]\n",
            " [0.23882461]\n",
            " [0.83898647]\n",
            " [0.40969016]\n",
            " [0.57068182]\n",
            " [0.55331107]\n",
            " [0.84071865]\n",
            " [0.57793514]\n",
            " [0.82985697]\n",
            " [0.86048083]\n",
            " [0.40717346]\n",
            " [0.68934588]\n",
            " [0.90137875]\n",
            " [0.4974825 ]\n",
            " [0.55150393]\n",
            " [0.85918737]\n",
            " [0.60257957]\n",
            " [0.89786697]\n",
            " [0.26810219]\n",
            " [0.25977269]\n",
            " [0.62358502]\n",
            " [0.24026461]\n",
            " [0.52352487]\n",
            " [0.67629681]\n",
            " [0.26093715]\n",
            " [0.08408812]\n",
            " [0.14532944]\n",
            " [0.4197791 ]\n",
            " [0.67640476]\n",
            " [0.90638791]\n",
            " [0.27694926]\n",
            " [0.81620217]\n",
            " [0.94960122]\n",
            " [0.85969763]\n",
            " [0.11470373]\n",
            " [0.8888582 ]\n",
            " [0.53307377]\n",
            " [0.88242972]\n",
            " [0.86001033]\n",
            " [0.78770563]\n",
            " [0.7258871 ]\n",
            " [0.77614312]\n",
            " [0.92134509]\n",
            " [0.77033732]\n",
            " [0.31386686]\n",
            " [0.92696165]\n",
            " [0.89012981]\n",
            " [0.8922065 ]\n",
            " [0.69448447]\n",
            " [0.83675096]\n",
            " [0.11094694]\n",
            " [0.86342311]\n",
            " [0.7048496 ]\n",
            " [0.76410174]\n",
            " [0.40201131]\n",
            " [0.51703869]\n",
            " [0.76093848]\n",
            " [0.47580999]\n",
            " [0.83665533]]\n",
            "[0. 1. 0. 1. 1. 1. 0. 1. 1. 1. 1. 0. 1. 1. 1. 0. 0. 1. 1. 0. 1. 1. 1. 1.\n",
            " 0. 0. 0. 1. 0. 1. 0. 1. 1. 0. 1. 1. 0. 0. 1. 1. 1. 1. 0. 0. 0. 0. 0. 0.\n",
            " 1. 0. 1. 1. 1. 1. 1. 0. 1. 0. 1. 0. 0. 1. 1. 1. 0. 1. 1. 0. 0. 1. 0. 0.\n",
            " 1. 0. 1. 0. 1. 0. 0. 0. 0. 1. 1. 1. 0. 0. 0. 0. 0. 0. 0. 1. 1. 0. 0. 0.\n",
            " 0. 0. 0. 1. 1. 0. 1. 1. 1. 1. 1. 1. 1. 1. 1. 0. 1. 0. 1. 0. 0. 0. 1. 1.\n",
            " 1. 1. 1. 1. 1. 1. 0. 1. 1. 0. 0. 0. 1. 0. 1. 0. 0. 1. 0. 0. 0. 0. 1. 1.\n",
            " 1. 0. 1. 1. 0. 1. 1. 1. 0. 1. 1. 0. 0. 0. 0. 0. 1. 1. 1. 0. 1. 1. 0. 1.\n",
            " 1. 1. 1. 1. 0. 0. 1. 1. 1. 1. 1. 0. 1. 1. 1. 0. 0. 0. 0. 1. 1. 0. 1. 1.\n",
            " 1. 1. 0. 0. 1. 0. 0. 1. 1. 1. 0. 0. 1. 1. 0. 0. 1. 1. 0. 1. 0. 1. 0. 1.\n",
            " 0. 1. 1. 1. 1. 1. 1. 0. 1. 1. 0. 1. 1. 1. 1. 0. 0. 1. 0. 1. 1. 0. 0. 0.\n",
            " 0. 1. 1. 0. 1. 1. 1. 0. 1. 1. 1. 1. 1. 1. 1. 1. 1. 0. 1. 1. 1. 1. 1. 0.\n",
            " 1. 1. 1. 0. 1. 1. 0. 1.]\n"
          ]
        }
      ]
    },
    {
      "cell_type": "code",
      "source": [
        "correct_pred = 0\n",
        "\n",
        "for i in range(len(test_labels)):\n",
        "  if int(pred_labels[i]) == test_labels[i][0]:\n",
        "     correct_pred +=1\n",
        "accuracy = correct_pred*100/len(test_labels) # Accuracy of the model  \n",
        "print(accuracy)"
      ],
      "metadata": {
        "colab": {
          "base_uri": "https://localhost:8080/"
        },
        "id": "qmd5km89SZa9",
        "outputId": "442553ec-068f-4365-d062-ed9b293622e5"
      },
      "execution_count": null,
      "outputs": [
        {
          "output_type": "stream",
          "name": "stdout",
          "text": [
            "72.79411764705883\n"
          ]
        }
      ]
    }
  ],
  "metadata": {
    "colab": {
      "collapsed_sections": [],
      "name": "logisticRegressionexample.ipynb",
      "provenance": []
    },
    "kernelspec": {
      "display_name": "Python 3",
      "name": "python3"
    },
    "language_info": {
      "name": "python"
    }
  },
  "nbformat": 4,
  "nbformat_minor": 0
}